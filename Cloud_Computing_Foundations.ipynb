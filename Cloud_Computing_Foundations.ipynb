{
  "nbformat": 4,
  "nbformat_minor": 0,
  "metadata": {
    "colab": {
      "name": "Cloud Computing Foundations.ipynb",
      "provenance": [],
      "authorship_tag": "ABX9TyO6iH9JjBjVTjFIwGi4Ds+g",
      "include_colab_link": true
    },
    "kernelspec": {
      "name": "python3",
      "display_name": "Python 3"
    },
    "language_info": {
      "name": "python"
    }
  },
  "cells": [
    {
      "cell_type": "markdown",
      "metadata": {
        "id": "view-in-github",
        "colab_type": "text"
      },
      "source": [
        "<a href=\"https://colab.research.google.com/github/fruehsi/Cloud-Computing-Foundations/blob/main/Cloud_Computing_Foundations.ipynb\" target=\"_parent\"><img src=\"https://colab.research.google.com/assets/colab-badge.svg\" alt=\"Open In Colab\"/></a>"
      ]
    },
    {
      "cell_type": "code",
      "source": [
        "print(\"hello world\")"
      ],
      "metadata": {
        "id": "RDngJpBEKL8V"
      },
      "execution_count": null,
      "outputs": []
    },
    {
      "cell_type": "markdown",
      "source": [
        "# Tutorial: Create Markdown in Jupyter"
      ],
      "metadata": {
        "id": "ArFlh_p8KQP9"
      }
    }
  ]
}